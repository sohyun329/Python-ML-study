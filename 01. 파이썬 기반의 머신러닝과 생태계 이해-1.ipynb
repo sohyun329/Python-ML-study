{
 "cells": [
  {
   "cell_type": "markdown",
   "id": "2b4c9336",
   "metadata": {},
   "source": [
    "## [03] 넘파이"
   ]
  },
  {
   "cell_type": "markdown",
   "id": "09d950c1",
   "metadata": {},
   "source": [
    "- 머신러닝의 주요 알고리즘은 선형대수와 통계 등에 기반한다.\n",
    "- 선형대수는 수학뿐만 아니라 다른 영역의 자연과학 공학에서 널리 사용되고 있다.\n",
    "- Numerical Python을 의미하는 넘파이(Numpy)는 파이썬에서 선형대수 기반의 프로그램을 쉽게 만들 수 있도록 지원하는 대표적인 패키지이다.\n",
    "- 루프를 사용하지 않고 대량 데이터의 배열 연산을 가능하게 하므로 빠른 배열 연산 속도를 보장한다.\n",
    "- 대량 데이터 기반의 과학과 공학 프로그램은 빠른 계산 능력이 매우 중요하다.\n",
    "- 넘파이는 또한 C/C++과 같은 저수준 언어 기반의 호한 API를 제공\n",
    "- 기존 C/C++ 기반의 타 프로그램과 데이터를 주고 받거나 API를 호출해 쉽게 통합할 수 있는 기능을 제공\n",
    "- 넘파이는 매우 빠른 배열 연산을 보장해 주지만, 파이썬 언어 자체가 가지는 수행 성능의 제약이 있으므로 수행 성능이 매우 중요한 부분은 C/C++ 기반의 코드로 작성하고 이를 넘파이에서 호추라는 방식으로 쉽게 통합할 수 있다.\n",
    "- 넘파이는 배열 기반의 연산은 물론이고 다양한 데이터 핸들링 기능을 제공한다.\n",
    "- 넘파이를 이해하는 것은 파이썬 기반의 머신러닝은 매우 중요하다.\n",
    "- 많은 머신러닝 알고리즘이 넘파이 기반으로 작성돼 잇음은 물론이고, 이들 알고리즘의 입력 데이터와 출력 데이터를 넘파이 배열 타입으로 사용하기 때문이다."
   ]
  },
  {
   "cell_type": "markdown",
   "id": "1179c033",
   "metadata": {},
   "source": [
    "### 넘파이 ndarray 개요"
   ]
  },
  {
   "cell_type": "code",
   "execution_count": 1,
   "id": "94744a9c",
   "metadata": {},
   "outputs": [],
   "source": [
    "# 넘파이 모듈 import\n",
    "import numpy as np"
   ]
  },
  {
   "cell_type": "markdown",
   "id": "ac956e02",
   "metadata": {},
   "source": [
    "- 넘파이의 기반 데이터 타입은 ndarray\n",
    "- ndarray를 이용해 넘파이에서 다차원 배열을 쉽게 생성하고 다양한 연산을 수행할 수 있다.\n",
    "- 넘파이 ndarray()함수는 파이썬의 리스트와 같은 다양한 인자를 입력받아서 ndarray로 변환하는 기능을 수행한다.\n",
    "- 생성된 ndarray 배열의 shape 변수는 ndarray의 크기, 즉 행과 열의 수를 튜플 형태로 가지고 있으며 이를 통해 ndarray배열의 차원까지 알 수 있다."
   ]
  },
  {
   "cell_type": "code",
   "execution_count": 2,
   "id": "bc3f936f",
   "metadata": {},
   "outputs": [
    {
     "name": "stdout",
     "output_type": "stream",
     "text": [
      "array1 type :  <class 'numpy.ndarray'>\n",
      "array1 array 형태 :  (3,)\n",
      "array2 type :  <class 'numpy.ndarray'>\n",
      "array2 array 형태 :  (2, 3)\n",
      "array3 type :  <class 'numpy.ndarray'>\n",
      "array3 array 형태 :  (1, 3)\n"
     ]
    }
   ],
   "source": [
    "array1 = np.array([1,2,3])\n",
    "print('array1 type : ', type(array1))\n",
    "print('array1 array 형태 : ', array1.shape)\n",
    "\n",
    "array2 = np.array([[1,2,3,],[2,3,4]])\n",
    "print('array2 type : ', type(array2))\n",
    "print('array2 array 형태 : ', array2.shape)\n",
    "\n",
    "array3 = np.array([[1,2,3]])\n",
    "print('array3 type : ', type(array3))\n",
    "print('array3 array 형태 : ', array3.shape)"
   ]
  },
  {
   "cell_type": "markdown",
   "id": "16269a9d",
   "metadata": {},
   "source": [
    "- np.array() : ndarray로 변환을 원하는 객체를 인자로 입력하면 ndarray를 반환\n",
    "- ndarray.shape : ndarray의 차원과 크기를 튜플(tuple) 형태로 나타냄\n",
    "- array1 -> 1차원 array 3개\n",
    "- array2 -> 2차원 array로, 2개의 로우와 3개의 칼럼으로 구성, 2*3=6개의 데이터\n",
    "- array3 -> 1개의 로우와 3개의 칼럼으로 구성된 2차원"
   ]
  },
  {
   "cell_type": "code",
   "execution_count": 3,
   "id": "776225d0",
   "metadata": {},
   "outputs": [
    {
     "name": "stdout",
     "output_type": "stream",
     "text": [
      "array1:1차원, array2:2차원, array3: 2차원\n"
     ]
    }
   ],
   "source": [
    "print('array1:{:0}차원, array2:{:1}차원, array3:{:2}차원'.format(array1.ndim, array2.ndim, array3.ndim))"
   ]
  },
  {
   "cell_type": "markdown",
   "id": "3fec55d9",
   "metadata": {},
   "source": [
    "- 리스트 [ ]는 1차원\n",
    "- fltmxm [[ ]]는 2차원"
   ]
  },
  {
   "cell_type": "markdown",
   "id": "e65b504d",
   "metadata": {},
   "source": [
    "### ndarray의 데이터 타입"
   ]
  },
  {
   "cell_type": "markdown",
   "id": "8a398f19",
   "metadata": {},
   "source": [
    "- ndarray내의 데이터 값은 숫자 값, 문자열 값, 불 값 등이 모두 가능\n",
    "- 숫자형의 경우 int형(8,16,32 bit), float형(16,32,64,128 bit)\n",
    "- 이보다 더 큰 숫자 값이나 정밀도를 위해 complex타입도 제공\n",
    "- ndarray내의 데이터 타입은 그 연산의 특성상 같은 데이터 타입만 가능\n",
    "- 한 개의 ndarray객체에 int와 float가 함께 있을 수 없다.\n",
    "- ndarray내의 데이터 타입은 dtype 속성으로 확인할 수 있다."
   ]
  },
  {
   "cell_type": "code",
   "execution_count": 5,
   "id": "564c9e1a",
   "metadata": {},
   "outputs": [
    {
     "name": "stdout",
     "output_type": "stream",
     "text": [
      "<class 'list'>\n",
      "<class 'numpy.ndarray'>\n",
      "[1 2 3] int64\n"
     ]
    }
   ],
   "source": [
    "list1 = [1,2,3]\n",
    "print(type(list1))\n",
    "array1 = np.array(list1)\n",
    "print(type(array1))\n",
    "print(array1,array1.dtype)"
   ]
  },
  {
   "cell_type": "code",
   "execution_count": 6,
   "id": "dd4830a3",
   "metadata": {},
   "outputs": [
    {
     "name": "stdout",
     "output_type": "stream",
     "text": [
      "['1' '2' 'test'] <U21\n",
      "[1. 2. 3.] float64\n"
     ]
    }
   ],
   "source": [
    "list2 = [1,2,'test']\n",
    "array2 = np.array(list2)\n",
    "print(array2, array2.dtype)\n",
    "\n",
    "list3 = [1,2,3.0]\n",
    "array3 = np.array(list3)\n",
    "print(array3,array3.dtype)"
   ]
  },
  {
   "cell_type": "markdown",
   "id": "9f5cd93d",
   "metadata": {},
   "source": [
    "- ndarray 내 데이터 값의 타입 변경 astype( ) 메서드를 이용할 수 있다.\n",
    "- astype( )에 인자로 원하는 타입을 문자열로 지정하면 된다.\n",
    "- 이렇게 데이터 타입을 변경하는 경우는 대용량 데이터의 ndarray를 만들 때 많은 메모리가 사용되는데, 메모리를 더 절약해야 할 때 보통 이용된다."
   ]
  },
  {
   "cell_type": "code",
   "execution_count": 7,
   "id": "88cc114e",
   "metadata": {},
   "outputs": [
    {
     "name": "stdout",
     "output_type": "stream",
     "text": [
      "[1. 2. 3.] float64\n",
      "[1 2 3] int32\n",
      "[1 2 3] int32\n"
     ]
    }
   ],
   "source": [
    "array_int = np.array([1,2,3])\n",
    "array_float = array_int.astype('float64')\n",
    "print(array_float, array_float.dtype)\n",
    "\n",
    "array_int1 = array_float.astype('int32')\n",
    "print(array_int1, array_int1.dtype)\n",
    "\n",
    "array_float1 = np.array([1.1,2.1,3.1])\n",
    "array_int2 = array_float1.astype('int32')\n",
    "print(array_int2, array_int2.dtype)"
   ]
  },
  {
   "cell_type": "markdown",
   "id": "cc0bad1e",
   "metadata": {},
   "source": [
    "### ndarray를 편리하게 생성하기 - arange, zeros, ones"
   ]
  },
  {
   "cell_type": "code",
   "execution_count": 8,
   "id": "97117cfd",
   "metadata": {},
   "outputs": [
    {
     "name": "stdout",
     "output_type": "stream",
     "text": [
      "[0 1 2 3 4 5 6 7 8 9]\n",
      "int64 (10,)\n"
     ]
    }
   ],
   "source": [
    "sequence_array = np.arange(10)\n",
    "print(sequence_array)\n",
    "print(sequence_array.dtype, sequence_array.shape)"
   ]
  },
  {
   "cell_type": "markdown",
   "id": "cfccd323",
   "metadata": {},
   "source": [
    "- arange( ) 함수는 파이썬 표준 함수인 range( )와 유사한 기능을 한다. \n",
    "- 0부터 함수 인자 값 -1까지의 값을 순차적으로 ndarray의 데이터값으로 변환해준다.\n",
    "- default 함수 인자는 stop값이며, 0부터 stop값인 10에서 -1을 더한 9까지 연속 숫자 값으로 구성된 1차원 ndarray를 만들어 준다,\n",
    "- zeros( )는 함수 인자로 튜플 형태의 shape 값을 입력하면 모든 값을 0으로 채운 해당 shape를 가진 ndarray를 반환한다.\n",
    "- ones( )는 함수 인자로 튜플 형태의 shape값을 입력하면 모든 값을 1로 채운 해당 shape를 가진 ndarray를 반환한다.\n",
    "- 함수 인자로 dtype을 정해주지 않으면 default로 float64형의 데이터로 ndarray를 채운다"
   ]
  },
  {
   "cell_type": "code",
   "execution_count": 9,
   "id": "b8617c44",
   "metadata": {},
   "outputs": [
    {
     "name": "stdout",
     "output_type": "stream",
     "text": [
      "[[0 0]\n",
      " [0 0]\n",
      " [0 0]]\n",
      "int32 (3, 2)\n",
      "[[1. 1.]\n",
      " [1. 1.]\n",
      " [1. 1.]]\n",
      "float64 (3, 2)\n"
     ]
    }
   ],
   "source": [
    "zero_array = np.zeros((3,2),dtype='int32')\n",
    "print(zero_array)\n",
    "print(zero_array.dtype, zero_array.shape)\n",
    "\n",
    "one_array = np.ones((3,2))\n",
    "print(one_array)\n",
    "print(one_array.dtype, one_array.shape)"
   ]
  },
  {
   "cell_type": "markdown",
   "id": "abbbf8b8",
   "metadata": {},
   "source": [
    "### ndarray의 차원과 크기를 변경하는 reshape( )"
   ]
  },
  {
   "cell_type": "markdown",
   "id": "5633be49",
   "metadata": {},
   "source": [
    "- reshape( ) aptjemsms ndarray를 특정 차원 및 크기로 변환"
   ]
  },
  {
   "cell_type": "code",
   "execution_count": 10,
   "id": "0d36eef1",
   "metadata": {},
   "outputs": [
    {
     "name": "stdout",
     "output_type": "stream",
     "text": [
      "array1:\n",
      " [0 1 2 3 4 5 6 7 8 9]\n",
      "array2:\n",
      " [[0 1 2 3 4]\n",
      " [5 6 7 8 9]]\n",
      "array3:\n",
      " [[0 1]\n",
      " [2 3]\n",
      " [4 5]\n",
      " [6 7]\n",
      " [8 9]]\n"
     ]
    }
   ],
   "source": [
    "array1 = np.arange(10)\n",
    "print('array1:\\n', array1)\n",
    "\n",
    "array2 = array1.reshape(2,5)\n",
    "print('array2:\\n',array2)\n",
    "\n",
    "array3 = array1.reshape(5,2)\n",
    "print('array3:\\n',array3)"
   ]
  },
  {
   "cell_type": "code",
   "execution_count": 11,
   "id": "07ae530b",
   "metadata": {},
   "outputs": [
    {
     "ename": "ValueError",
     "evalue": "cannot reshape array of size 10 into shape (4,3)",
     "output_type": "error",
     "traceback": [
      "\u001b[0;31m---------------------------------------------------------------------------\u001b[0m",
      "\u001b[0;31mValueError\u001b[0m                                Traceback (most recent call last)",
      "\u001b[0;32m/var/folders/qg/syyr2wld1c5gxxwxs5pkpty80000gn/T/ipykernel_44177/1938297127.py\u001b[0m in \u001b[0;36m<module>\u001b[0;34m\u001b[0m\n\u001b[0;32m----> 1\u001b[0;31m \u001b[0marray1\u001b[0m\u001b[0;34m.\u001b[0m\u001b[0mreshape\u001b[0m\u001b[0;34m(\u001b[0m\u001b[0;36m4\u001b[0m\u001b[0;34m,\u001b[0m\u001b[0;36m3\u001b[0m\u001b[0;34m)\u001b[0m\u001b[0;34m\u001b[0m\u001b[0;34m\u001b[0m\u001b[0m\n\u001b[0m",
      "\u001b[0;31mValueError\u001b[0m: cannot reshape array of size 10 into shape (4,3)"
     ]
    }
   ],
   "source": [
    "array1.reshape(4,3)"
   ]
  },
  {
   "cell_type": "markdown",
   "id": "632575f5",
   "metadata": {},
   "source": [
    "- reshape( )는 지정된 사이즈로 변경이 불가능하면 오류 발생"
   ]
  },
  {
   "cell_type": "code",
   "execution_count": 12,
   "id": "b315692b",
   "metadata": {},
   "outputs": [
    {
     "name": "stdout",
     "output_type": "stream",
     "text": [
      "[0 1 2 3 4 5 6 7 8 9]\n",
      "array2.shape: (2, 5)\n",
      "array3.shape: (5, 2)\n"
     ]
    }
   ],
   "source": [
    "array1 = np.arange(10)\n",
    "print(array1)\n",
    "array2 = array1.reshape(-1,5)\n",
    "print('array2.shape:',array2.shape)\n",
    "array3 = array1.reshape(5,-1)\n",
    "print('array3.shape:',array3.shape)"
   ]
  },
  {
   "cell_type": "markdown",
   "id": "3abd35c0",
   "metadata": {},
   "source": [
    "- 인자로 -1을 적용하는 경우 ndarray와 호환되는 새로운 shape로 변환해준다.\n",
    "- array1.reshape(-1,5) : 로우 인자가 -1, 칼럼 인자 5 -> array1과 호환될 수 잇는 2차원 ndarray로 변환화되, 고정된 5개의 칼럼에 맞는 로우를 자동으로 새롭게 생성해 변환하라는 의미\n",
    "- 10개의 1차원 데이터와 호환될 수 있는 고정된 5개 칼럼에 맞는 로우 개수는 2이므로 2X5의 2차원 ndarrayfh qusghkgksms rjtdlek.\n",
    "- array1.reshape(5,-1) : 고정된 5개의 로우에 맞는 칼럼은 2이므로 5X2의 2차원 ndarray로 변환"
   ]
  },
  {
   "cell_type": "code",
   "execution_count": 13,
   "id": "ce1b29df",
   "metadata": {},
   "outputs": [
    {
     "ename": "ValueError",
     "evalue": "cannot reshape array of size 10 into shape (4)",
     "output_type": "error",
     "traceback": [
      "\u001b[0;31m---------------------------------------------------------------------------\u001b[0m",
      "\u001b[0;31mValueError\u001b[0m                                Traceback (most recent call last)",
      "\u001b[0;32m/var/folders/qg/syyr2wld1c5gxxwxs5pkpty80000gn/T/ipykernel_44177/3911823226.py\u001b[0m in \u001b[0;36m<module>\u001b[0;34m\u001b[0m\n\u001b[1;32m      1\u001b[0m \u001b[0marray1\u001b[0m \u001b[0;34m=\u001b[0m \u001b[0mnp\u001b[0m\u001b[0;34m.\u001b[0m\u001b[0marange\u001b[0m\u001b[0;34m(\u001b[0m\u001b[0;36m10\u001b[0m\u001b[0;34m)\u001b[0m\u001b[0;34m\u001b[0m\u001b[0;34m\u001b[0m\u001b[0m\n\u001b[0;32m----> 2\u001b[0;31m \u001b[0marray4\u001b[0m \u001b[0;34m=\u001b[0m \u001b[0marray1\u001b[0m\u001b[0;34m.\u001b[0m\u001b[0mreshape\u001b[0m\u001b[0;34m(\u001b[0m\u001b[0;34m-\u001b[0m\u001b[0;36m1\u001b[0m\u001b[0;34m,\u001b[0m\u001b[0;36m4\u001b[0m\u001b[0;34m)\u001b[0m\u001b[0;34m\u001b[0m\u001b[0;34m\u001b[0m\u001b[0m\n\u001b[0m",
      "\u001b[0;31mValueError\u001b[0m: cannot reshape array of size 10 into shape (4)"
     ]
    }
   ],
   "source": [
    "array1 = np.arange(10)\n",
    "array4 = array1.reshape(-1,4)"
   ]
  },
  {
   "cell_type": "markdown",
   "id": "e14814de",
   "metadata": {},
   "source": [
    "- -1인자는 reshape(-1,1와 같은 형태로 자주 사용된다.\n",
    "- reshape(-1,1)의 원본 ndarray가 어떤 형태라도 2차원이고, 여러 개의 로우를 가지되 반드시 1개의 칼럼을 가진 ndarray로 변환됨을 보장한다.\n",
    "- 여러개의 넘파이 ndarray는 stack이나 concat으로 결합할 대 각각의 ndarray의 형태를 통일해 유용하게 사용된다."
   ]
  },
  {
   "cell_type": "code",
   "execution_count": 14,
   "id": "32831e81",
   "metadata": {},
   "outputs": [
    {
     "name": "stdout",
     "output_type": "stream",
     "text": [
      "array3d:\n",
      " [[[0, 1], [2, 3]], [[4, 5], [6, 7]]]\n",
      "array5d\"\n",
      " [[0], [1], [2], [3], [4], [5], [6], [7]]\n",
      "array5 shape:\n",
      " (8, 1)\n",
      "array6:\n",
      " [[0], [1], [2], [3], [4], [5], [6], [7]]\n",
      "array6 shape: (8, 1)\n"
     ]
    }
   ],
   "source": [
    "array1 = np.arange(8)\n",
    "array3d = array1.reshape((2,2,2))\n",
    "print('array3d:\\n',array3d.tolist())\n",
    "\n",
    "#3차원 ndarray를 2차원 ndarray로 변환\n",
    "array5 = array3d.reshape(-1,1)\n",
    "print('array5d\"\\n',array5.tolist())\n",
    "print('array5 shape:\\n',array5.shape)\n",
    "\n",
    "#1차원 ndarray를 2차원 ndarray로 변환\n",
    "array6 = array1.reshape(-1,1)\n",
    "print('array6:\\n',array6.tolist())\n",
    "print('array6 shape:',array6.shape)"
   ]
  },
  {
   "cell_type": "markdown",
   "id": "3952f813",
   "metadata": {},
   "source": [
    "### 넘파이의 ndarray의 데이터 세트 선택하기 - 인덱싱(indexing)"
   ]
  },
  {
   "cell_type": "markdown",
   "id": "6cd2f67f",
   "metadata": {},
   "source": [
    "- 1. 특정한 데이터만 추출 : 원하는 위치의 인덱스 값을 지정하면 해당 위치의 데이터가 반환\n",
    "- 2. 슬라이싱(Slicing) : 슬라이싱은 연속된 인덱스상의 ndarray를 추출하는 방식이다. ':'기호 사이에 시작 인덱스와 종료 인덱스를 표시하면 시작 인덱스에서 종료 인덱스 -1 위치에 있는 데이터의 ndarray를 반환한다. \n",
    "- 3. 팬시 인덱싱(Fancy Indexing) : 일정한 인덱싱 집합을 리스트 또는 ndarray 형태로 지정해 해당 위치에 있는 데이터의 ndarray를 반환한다.\n",
    "- 4. 불린 인덱싱(Boolean Indexing) : 특정 조건에 해당하는지 여부인 True/False 값 인덱싱 집합을 기반으로 True에 해당하는 인덱스 위치에 잇는 데이터의 ndarray를 반환한다."
   ]
  },
  {
   "cell_type": "markdown",
   "id": "4976a675",
   "metadata": {},
   "source": [
    "#### 단일 값 추출"
   ]
  },
  {
   "cell_type": "code",
   "execution_count": 15,
   "id": "6bdf1b8b",
   "metadata": {},
   "outputs": [
    {
     "name": "stdout",
     "output_type": "stream",
     "text": [
      "array1: [1 2 3 4 5 6 7 8 9]\n",
      "value: 3\n",
      "<class 'numpy.int64'>\n"
     ]
    }
   ],
   "source": [
    "# 1부터 9까지의 1차원 ndarray 생성\n",
    "array1 = np.arange(start = 1, stop=10)\n",
    "print('array1:',array1)\n",
    "\n",
    "#index는 0부터 시작하므로 array1[2]는 3번째 index 위치의 데이터 값을 의미\n",
    "value = array1[2]\n",
    "print('value:',value)\n",
    "print(type(value))"
   ]
  },
  {
   "cell_type": "code",
   "execution_count": 16,
   "id": "4e3d20ad",
   "metadata": {},
   "outputs": [
    {
     "name": "stdout",
     "output_type": "stream",
     "text": [
      "맨 뒤의 값: 9 맨 뒤에서 두번째 값: 8\n"
     ]
    }
   ],
   "source": [
    "print('맨 뒤의 값:',array1[-1],'맨 뒤에서 두번째 값:',array1[-2])"
   ]
  },
  {
   "cell_type": "code",
   "execution_count": 17,
   "id": "3c02e08f",
   "metadata": {},
   "outputs": [
    {
     "name": "stdout",
     "output_type": "stream",
     "text": [
      "array1: [9 2 3 4 5 6 7 8 0]\n"
     ]
    }
   ],
   "source": [
    "array1[0] = 9\n",
    "array1[8] = 0\n",
    "print('array1:',array1)"
   ]
  },
  {
   "cell_type": "code",
   "execution_count": 18,
   "id": "ae1425b5",
   "metadata": {},
   "outputs": [
    {
     "name": "stdout",
     "output_type": "stream",
     "text": [
      "[[1 2 3]\n",
      " [4 5 6]\n",
      " [7 8 9]]\n",
      "(row=0, col=0) index 가리키는 값 :  1\n",
      "(row=0, col=1) index 가리키는 값 :  2\n",
      "(row=1, col=0) index 가리키는 값 :  4\n",
      "(row=2, col=2) index 가리키는 값 :  9\n"
     ]
    }
   ],
   "source": [
    "array1d = np.arange(start=1,stop=10)\n",
    "array2d = array1d.reshape(3,3)\n",
    "print(array2d)\n",
    "\n",
    "print('(row=0, col=0) index 가리키는 값 : ', array2d[0,0])\n",
    "print('(row=0, col=1) index 가리키는 값 : ', array2d[0,1])\n",
    "print('(row=1, col=0) index 가리키는 값 : ', array2d[1,0])\n",
    "print('(row=2, col=2) index 가리키는 값 : ', array2d[2,2])"
   ]
  },
  {
   "cell_type": "markdown",
   "id": "a4280ff4",
   "metadata": {},
   "source": [
    "#### 슬라이싱"
   ]
  },
  {
   "cell_type": "markdown",
   "id": "b52de079",
   "metadata": {},
   "source": [
    "- ':'기호를 이용해 연속한 데이터를 슬라이싱해서 추출\n",
    "- 단일 데이터값 추출을 제외하고 슬라이싱, 팬시 인덱싱, 불린 인덱싱으로 추출된 데이터 세트는 모두 ndarray타입이다."
   ]
  },
  {
   "cell_type": "code",
   "execution_count": 19,
   "id": "e2eaa158",
   "metadata": {},
   "outputs": [
    {
     "name": "stdout",
     "output_type": "stream",
     "text": [
      "[1 2 3]\n",
      "<class 'numpy.ndarray'>\n"
     ]
    }
   ],
   "source": [
    "array1 = np.arange(start=1,stop=10)\n",
    "array3 = array1[0:3]\n",
    "print(array3)\n",
    "print(type(array3))"
   ]
  },
  {
   "cell_type": "markdown",
   "id": "31a2d23a",
   "metadata": {},
   "source": [
    "- ':'기호 앞에 시작 인덱스를 생략하면 자동으로 맨 처음 인덱스인 0으로 간주한다.\n",
    "- ':'기호 뒤에 종료 인덱스를 생략하면 자동으로 맨 마지막 인덱스로 간주한다.\n",
    "- ':'기호 앞/뒤에 시작/종료 인덱스를 생략하면 자동으로 맨 처음/맨 마지막 인덱스로 간주한다."
   ]
  },
  {
   "cell_type": "code",
   "execution_count": 20,
   "id": "f97ffcf0",
   "metadata": {},
   "outputs": [
    {
     "name": "stdout",
     "output_type": "stream",
     "text": [
      "[1 2 3]\n",
      "[4 5 6 7 8 9]\n",
      "[1 2 3 4 5 6 7 8 9]\n"
     ]
    }
   ],
   "source": [
    "array1 = np.arange(start=1, stop=10)\n",
    "array4 = array1[:3]\n",
    "print(array4)\n",
    "\n",
    "array5 = array1[3:]\n",
    "print(array5)\n",
    "\n",
    "array6 = array1[:]\n",
    "print(array6)"
   ]
  },
  {
   "cell_type": "code",
   "execution_count": 21,
   "id": "6ed2e922",
   "metadata": {},
   "outputs": [
    {
     "name": "stdout",
     "output_type": "stream",
     "text": [
      "array2d:\n",
      " [[1 2 3]\n",
      " [4 5 6]\n",
      " [7 8 9]]\n",
      "array2d[0:2, 0:2]\n",
      " [[1 2]\n",
      " [4 5]]\n",
      "array2d[1:3, 0:3]\n",
      " [[4 5 6]\n",
      " [7 8 9]]\n",
      "array2d[1:3, :]\n",
      " [[4 5 6]\n",
      " [7 8 9]]\n",
      "array2d[:, :]\n",
      " [[1 2 3]\n",
      " [4 5 6]\n",
      " [7 8 9]]\n",
      "array2d[:2, 1:]\n",
      " [[2 3]\n",
      " [5 6]]\n",
      "array2d[:2, 0]\n",
      " [1 4]\n"
     ]
    }
   ],
   "source": [
    "array1d = np.arange(start=1, stop=10)\n",
    "array2d = array1d.reshape(3,3)\n",
    "print('array2d:\\n',array2d)\n",
    "\n",
    "print('array2d[0:2, 0:2]\\n', array2d[0:2, 0:2])\n",
    "print('array2d[1:3, 0:3]\\n', array2d[1:3, 0:3])\n",
    "print('array2d[1:3, :]\\n', array2d[1:3, :])\n",
    "print('array2d[:, :]\\n', array2d[:, :])\n",
    "print('array2d[:2, 1:]\\n', array2d[:2, 1:])\n",
    "print('array2d[:2, 0]\\n', array2d[:2, 0])"
   ]
  },
  {
   "cell_type": "code",
   "execution_count": 23,
   "id": "ccfede71",
   "metadata": {},
   "outputs": [
    {
     "name": "stdout",
     "output_type": "stream",
     "text": [
      "[1 2 3]\n",
      "[4 5 6]\n",
      "array2d[0] shape :  (3,) array2d[1] shape :  (3,)\n"
     ]
    }
   ],
   "source": [
    "print(array2d[0])\n",
    "print(array2d[1])\n",
    "print('array2d[0] shape : ', array2d[0].shape, 'array2d[1] shape : ', array2d[1].shape)"
   ]
  },
  {
   "cell_type": "markdown",
   "id": "b4fff862",
   "metadata": {},
   "source": [
    "#### 팬시 인덱싱\n",
    "- 리스트나 ndarray로 인덱스 집합을 지정하면 해당 위치의 인덱스에 해당하는 ndarray를 반환하는 인덱싱 방식"
   ]
  },
  {
   "cell_type": "code",
   "execution_count": 24,
   "id": "6783f32f",
   "metadata": {},
   "outputs": [
    {
     "name": "stdout",
     "output_type": "stream",
     "text": [
      "array2d[[0,1],2] =>  [3, 6]\n",
      "array2d[[0,1],0:2] =>  [[1, 2], [4, 5]]\n",
      "array2d[[0,1]] =>  [[1, 2, 3], [4, 5, 6]]\n"
     ]
    }
   ],
   "source": [
    "array1d = np.arange(start=1, stop=10)\n",
    "array2d = array1d.reshape(3,3)\n",
    "\n",
    "array3 = array2d[[0,1],2]\n",
    "print('array2d[[0,1],2] => ',array3.tolist())\n",
    "\n",
    "array4 = array2d[[0,1],0:2]\n",
    "print('array2d[[0,1],0:2] => ',array4.tolist())\n",
    "\n",
    "array5 = array2d[[0,1]]\n",
    "print('array2d[[0,1]] => ',array5.tolist())"
   ]
  },
  {
   "cell_type": "markdown",
   "id": "a8a4e103",
   "metadata": {},
   "source": [
    "#### 불린 인덱싱\n",
    "- 조건 필터링과 검색을 동시에 할 수 있기 때문에 매우 자주 사용되는 인덱싱 방식"
   ]
  },
  {
   "cell_type": "code",
   "execution_count": 25,
   "id": "b2627603",
   "metadata": {},
   "outputs": [
    {
     "name": "stdout",
     "output_type": "stream",
     "text": [
      "array1d > 5 불링 인덱싱 결과 값 :  [6 7 8 9]\n"
     ]
    }
   ],
   "source": [
    "array1d = np.arange(start=1, stop=10)\n",
    "# [ ]안에 array1d > 5 Boolean indexing을 적용\n",
    "array3 = array1d[array1d>5]\n",
    "print('array1d > 5 불링 인덱싱 결과 값 : ',array3)"
   ]
  },
  {
   "cell_type": "code",
   "execution_count": 26,
   "id": "727ddf1f",
   "metadata": {},
   "outputs": [
    {
     "data": {
      "text/plain": [
       "array([False, False, False, False, False,  True,  True,  True,  True])"
      ]
     },
     "execution_count": 26,
     "metadata": {},
     "output_type": "execute_result"
    }
   ],
   "source": [
    "array1d > 5"
   ]
  },
  {
   "cell_type": "code",
   "execution_count": 27,
   "id": "58b19800",
   "metadata": {},
   "outputs": [
    {
     "name": "stdout",
     "output_type": "stream",
     "text": [
      "불린 인덱스로 필터링 결과 :  [6 7 8 9]\n"
     ]
    }
   ],
   "source": [
    "boolean_indexes = np.array([False, False, False, False, False,  True,  True,  True,  True])\n",
    "array3 = array1d[boolean_indexes]\n",
    "print('불린 인덱스로 필터링 결과 : ',array3)"
   ]
  },
  {
   "cell_type": "code",
   "execution_count": 28,
   "id": "c8188b01",
   "metadata": {},
   "outputs": [
    {
     "name": "stdout",
     "output_type": "stream",
     "text": [
      "일반 인덱스로 필터링 결과 :  [6 7 8 9]\n"
     ]
    }
   ],
   "source": [
    "indexes = np.array([5,6,7,8])\n",
    "array4 = array1d[indexes]\n",
    "print('일반 인덱스로 필터링 결과 : ',array4)"
   ]
  },
  {
   "cell_type": "markdown",
   "id": "290b29c2",
   "metadata": {},
   "source": [
    "### 행렬의 정렬 - sort( )와 argsort( )"
   ]
  },
  {
   "cell_type": "markdown",
   "id": "c4a3299d",
   "metadata": {},
   "source": [
    "#### 행렬 정렬"
   ]
  },
  {
   "cell_type": "code",
   "execution_count": 30,
   "id": "2e382bb9",
   "metadata": {},
   "outputs": [
    {
     "name": "stdout",
     "output_type": "stream",
     "text": [
      "원본 행렬 :  [3 1 9 5]\n",
      "np.sort() 호출 후 반환된 정렬 행렬 :  [1 3 5 9]\n",
      "np.sort() 호출 후 원본 행렬 :  [3 1 9 5]\n",
      "org_array.sort() 호출 후 반환된 정렬 행렬 :  None\n",
      "org_array.sort() 호출 후 원본 행렬 :  [1 3 5 9]\n"
     ]
    }
   ],
   "source": [
    "org_array = np.array([3,1,9,5])\n",
    "print('원본 행렬 : ', org_array)\n",
    "# np.sort( )로 정렬\n",
    "sort_array1 = np.sort(org_array)\n",
    "print('np.sort() 호출 후 반환된 정렬 행렬 : ', sort_array1)\n",
    "print('np.sort() 호출 후 원본 행렬 : ', org_array)\n",
    "\n",
    "#ndarray.sort( )로 정렬\n",
    "sort_array2 = org_array.sort()\n",
    "print('org_array.sort() 호출 후 반환된 정렬 행렬 : ', sort_array2)\n",
    "print('org_array.sort() 호출 후 원본 행렬 : ', org_array)\n"
   ]
  },
  {
   "cell_type": "code",
   "execution_count": 31,
   "id": "5edbf6c1",
   "metadata": {},
   "outputs": [
    {
     "name": "stdout",
     "output_type": "stream",
     "text": [
      "내림차순으로 정렬: [9 5 3 1]\n"
     ]
    }
   ],
   "source": [
    "sort_array1_desc = np.sort(org_array)[::-1]\n",
    "print('내림차순으로 정렬:',sort_array1_desc)"
   ]
  },
  {
   "cell_type": "code",
   "execution_count": 32,
   "id": "4895d3b6",
   "metadata": {},
   "outputs": [
    {
     "name": "stdout",
     "output_type": "stream",
     "text": [
      "로우 방향으로 정렬:\n",
      " [[ 7  1]\n",
      " [ 8 12]]\n",
      "칼럼 방향으로 정렬:\n",
      " [[ 8 12]\n",
      " [ 1  7]]\n"
     ]
    }
   ],
   "source": [
    "array2d = np.array([[8,12],[7,1]])\n",
    "sort_array2d_axis0 = np.sort(array2d, axis=0)\n",
    "print('로우 방향으로 정렬:\\n',sort_array2d_axis0)\n",
    "\n",
    "sort_array2d_axis1 = np.sort(array2d, axis=1)\n",
    "print('칼럼 방향으로 정렬:\\n',sort_array2d_axis1)"
   ]
  },
  {
   "cell_type": "markdown",
   "id": "10db0dfa",
   "metadata": {},
   "source": [
    "#### 정렬된 행렬의 인덱스를 반환하기"
   ]
  },
  {
   "cell_type": "code",
   "execution_count": 33,
   "id": "aa250ac0",
   "metadata": {},
   "outputs": [
    {
     "name": "stdout",
     "output_type": "stream",
     "text": [
      "<class 'numpy.ndarray'>\n",
      "행렬 정렬 시 원본 행렬의 인덱스 :  [1 0 3 2]\n"
     ]
    }
   ],
   "source": [
    "org_array = np.array([3,1,9,5])\n",
    "sort_indices = np.argsort(org_array)\n",
    "print(type(sort_indices))\n",
    "print('행렬 정렬 시 원본 행렬의 인덱스 : ', sort_indices)"
   ]
  },
  {
   "cell_type": "code",
   "execution_count": 34,
   "id": "75edacec",
   "metadata": {},
   "outputs": [
    {
     "name": "stdout",
     "output_type": "stream",
     "text": [
      "행렬 정렬 시 원본 행렬의 인덱스 :  [2 3 0 1]\n"
     ]
    }
   ],
   "source": [
    "org_array = np.array([3,1,9,5])\n",
    "sort_indices_desc = np.argsort(org_array)[::-1]\n",
    "print('행렬 정렬 시 원본 행렬의 인덱스 : ', sort_indices_desc)"
   ]
  },
  {
   "cell_type": "code",
   "execution_count": 35,
   "id": "ce06a176",
   "metadata": {},
   "outputs": [
    {
     "name": "stdout",
     "output_type": "stream",
     "text": [
      "성적 오름차순 정렬 시 score_array의 인덱스 : [0 2 4 1 3]\n",
      "성적 오름차순으로 name_array의 이름 출력 : ['John' 'Sarah' 'Samuel' 'Mike' 'Kate']\n"
     ]
    }
   ],
   "source": [
    "import numpy as np\n",
    "\n",
    "name_array = np.array(['John','Mike','Sarah','Kate','Samuel'])\n",
    "score_array = np.array([78,95,84,98,88])\n",
    "\n",
    "sort_indices_asc = np.argsort(score_array)\n",
    "print('성적 오름차순 정렬 시 score_array의 인덱스 :', sort_indices_asc)\n",
    "print('성적 오름차순으로 name_array의 이름 출력 :', name_array[sort_indices_asc])"
   ]
  },
  {
   "cell_type": "markdown",
   "id": "da046451",
   "metadata": {},
   "source": [
    "### 선형대수 연산 - 행렬 내적과 전치 행렬 구하기"
   ]
  },
  {
   "cell_type": "markdown",
   "id": "cdec0aec",
   "metadata": {},
   "source": [
    "#### 행렬 내적(행렬 곱)"
   ]
  },
  {
   "cell_type": "code",
   "execution_count": 36,
   "id": "66b421ae",
   "metadata": {},
   "outputs": [
    {
     "name": "stdout",
     "output_type": "stream",
     "text": [
      "행렬 내적 결과:\n",
      " [[ 58  64]\n",
      " [139 154]]\n"
     ]
    }
   ],
   "source": [
    "A = np.array([[1,2,3],[4,5,6]])\n",
    "B = np.array([[7,8],[9,10],[11,12]])\n",
    "dot_product = np.dot(A,B)\n",
    "print('행렬 내적 결과:\\n',dot_product)"
   ]
  },
  {
   "cell_type": "markdown",
   "id": "ce2ee93e",
   "metadata": {},
   "source": [
    "#### 전치 행렬"
   ]
  },
  {
   "cell_type": "code",
   "execution_count": 37,
   "id": "07791763",
   "metadata": {},
   "outputs": [
    {
     "name": "stdout",
     "output_type": "stream",
     "text": [
      "A의 전치 행렬:\n",
      " [[1 3]\n",
      " [2 4]]\n"
     ]
    }
   ],
   "source": [
    "A = np.array([[1,2],[3,4]])\n",
    "transpose_mat = np.transpose(A)\n",
    "print('A의 전치 행렬:\\n', transpose_mat)"
   ]
  },
  {
   "cell_type": "code",
   "execution_count": null,
   "id": "7bb83573",
   "metadata": {},
   "outputs": [],
   "source": []
  }
 ],
 "metadata": {
  "kernelspec": {
   "display_name": "Python 3 (ipykernel)",
   "language": "python",
   "name": "python3"
  },
  "language_info": {
   "codemirror_mode": {
    "name": "ipython",
    "version": 3
   },
   "file_extension": ".py",
   "mimetype": "text/x-python",
   "name": "python",
   "nbconvert_exporter": "python",
   "pygments_lexer": "ipython3",
   "version": "3.9.7"
  }
 },
 "nbformat": 4,
 "nbformat_minor": 5
}
