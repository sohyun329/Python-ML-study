{
 "cells": [
  {
   "cell_type": "markdown",
   "id": "bec6366a",
   "metadata": {},
   "source": [
    "- 머신러닝은 데이터 가공/변환, 모델 학습/예측, 그리고 평가의 프로세스로 구성\n",
    "- 머신러닝 모델은 성능 평가 지표로 예측 성능을 평가할 수 있다.\n",
    "- 머신러닝 모델 회귀인 경우 : 실제 값과 예측값의 오차 평균값에 기반\n",
    "- 머신러닝 모델 분류인 경우 : 일반적으로 실제 결과 데이터와 예측 결과 데이터가 얼마나 정확하고 오류가 적게 발생하는가에 기반, 하지만 단순히 정확도만 가지고 판단했을 경우 잘못된 평가 결과에 빠질 수 있음, 분류의 경우 이진 분류 하는 경우가 많기 때문에 정확도 보다 다른 성능 평가 지표가 더 중요시 되는 경우가 많다.\n",
    "    - 분류의 성능 평가 지표 : 정확도, 오차행렬, 정확도, 재현율, F1 스코어, ROC AUC"
   ]
  },
  {
   "cell_type": "markdown",
   "id": "de14b4cf",
   "metadata": {},
   "source": [
    "# 01. 정확도(Accuracy)\n",
    "- 실제 데이터에서 예측 데이터가 얼마나 같은지를 판단하는 지표\n",
    "- 정확도(accuracy) = 에측 결과가 동일한 데이터 건수 / 전체 예측 데이터 건수\n",
    "- 직관적으로 모델 예측 성능 나타내는 평가 지표"
   ]
  },
  {
   "cell_type": "code",
   "execution_count": 12,
   "id": "9e9cbe9e",
   "metadata": {},
   "outputs": [],
   "source": [
    "from sklearn.base import BaseEstimator\n",
    "\n",
    "class MyDummyClassifier(BaseEstimator):\n",
    "    #fit()메서드는 아무것도 학습하지 않음.\n",
    "    def fit(self, X, y=None):\n",
    "        pass\n",
    "    #predict()메서드는 단순히 Sex 피처가 1이면 0, 그렇지 않으면 1로 예측함\n",
    "    def predict(self, X):\n",
    "        pred = np.zeros((X.shape[0],1))\n",
    "        for i in range(X.shape[0]):\n",
    "            if X['Sex'].iloc[i]==1:\n",
    "                pred[i]==0\n",
    "            else:\n",
    "                pred[i]==1\n",
    "        return pred\n",
    "    \n",
    "from sklearn.preprocessing import LabelEncoder\n",
    "import numpy as np\n",
    "\n",
    "#Null 처리 함수\n",
    "def fillna(df):\n",
    "    df['Age'].fillna(df['Age'].mean(),inplace=True)\n",
    "    df['Cabin'].fillna('N',inplace=True)\n",
    "    df['Embarked'].fillna('N',inplace=True)\n",
    "    df['Fare'].fillna(0,inplace=True)\n",
    "    return df\n",
    "\n",
    "#머신러닝 알고리즘에 불필요한 피처 제거\n",
    "def drop_features(df):\n",
    "    df.drop(['PassengerId','Name','Ticket'],axis=1,inplace=True)\n",
    "    return df\n",
    "\n",
    "#레이블 인코딩 수행\n",
    "def format_features(df):\n",
    "    df['Cabin'] = df['Cabin'].str[:1]\n",
    "    features=['Cabin','Sex','Embarked']\n",
    "    for feature in features:\n",
    "        le = LabelEncoder()\n",
    "        le = le.fit(df[feature])\n",
    "        df[feature] = le.transform(df[feature])\n",
    "    return df\n",
    "\n",
    "#앞에서 설정한 데이터 전처리 함수 호출\n",
    "def transform_features(df):\n",
    "    df = fillna(df)\n",
    "    df = drop_features(df)\n",
    "    df = format_features(df)\n",
    "    return df"
   ]
  },
  {
   "cell_type": "code",
   "execution_count": 14,
   "id": "dd3c6915",
   "metadata": {},
   "outputs": [
    {
     "name": "stdout",
     "output_type": "stream",
     "text": [
      "Dummy Classifier의 정확도는 : 0.6145\n"
     ]
    }
   ],
   "source": [
    "import pandas as pd\n",
    "from sklearn.model_selection import train_test_split\n",
    "from sklearn.metrics import accuracy_score\n",
    "\n",
    "#원본 데이터를 재로딩, 데이터 가공, 학습 데이터/테스트 데이터 분할\n",
    "titanic_df = pd.read_csv('Data/titanic_train.csv')\n",
    "y_titanic_df = titanic_df['Survived']\n",
    "X_titanic_df = titanic_df.drop('Survived',axis=1)\n",
    "X_titanic_df = transform_features(X_titanic_df)\n",
    "X_train, X_test, y_train, y_test = train_test_split(X_titanic_df, y_titanic_df, test_size=0.2, random_state=0)\n",
    "\n",
    "#위에서 생성한 Dummy Classifier를 예측해 학습/예측/평가 수행\n",
    "myclf = MyDummyClassifier()\n",
    "myclf.fit(X_train,y_train)\n",
    "\n",
    "mypredictions = myclf.predict(X_test)\n",
    "print('Dummy Classifier의 정확도는 : {0:.4f}'.format(accuracy_score(y_test, mypredictions)))"
   ]
  },
  {
   "cell_type": "markdown",
   "id": "152c3733",
   "metadata": {},
   "source": [
    "- 정확도는 불균형한 레이블 값 분포에서 ML 모델의 성능을 판단할 경우, 적합한 평가 지표가 아니다."
   ]
  },
  {
   "cell_type": "markdown",
   "id": "06af6d76",
   "metadata": {},
   "source": [
    "### MNIST 데이터 세트를 변환해 불균형한 데이터 세트로 만든 뒤에 정확도 지표 적용 시 어떠한 문제 발생하는지 확인"
   ]
  },
  {
   "cell_type": "code",
   "execution_count": 15,
   "id": "edbf8361",
   "metadata": {},
   "outputs": [],
   "source": [
    "from sklearn.datasets import load_digits\n",
    "from sklearn.model_selection import train_test_split\n",
    "from sklearn.base import BaseEstimator\n",
    "from sklearn.metrics import accuracy_score\n",
    "import numpy as np\n",
    "import pandas as pd\n",
    "\n",
    "class MyFakeClassifier(BaseEstimator):\n",
    "    def fit(self, X, y):\n",
    "        pass\n",
    "    \n",
    "    #입력값으로 들어오는 X데이터 세트의 크기만큼 모두 0값으로 만들어서 반환\n",
    "    def predict(self, X):\n",
    "        return np.zeros((len(X),1),dtype=bool)\n",
    "    \n",
    "#사이킷런의 내장 데이터 세트인 load_digits()를 이용해 MNIST 데이터 로딩\n",
    "digits = load_digits()\n",
    "\n",
    "#digits 번호가 7번이면 True이고 이를 astype(int)로 1로 변환, 7번이 아니면 False이고 0으로 변환.\n",
    "y = (digits.target == 7).astype(int)\n",
    "X_train, X_test, y_train, y_test = train_test_split(digits.data, y, random_state=1)"
   ]
  },
  {
   "cell_type": "code",
   "execution_count": 16,
   "id": "de0654c3",
   "metadata": {},
   "outputs": [
    {
     "name": "stdout",
     "output_type": "stream",
     "text": [
      "레이블 테스트 세트 크기 :  (450,)\n",
      "테스트 세트 레이블 0과 1의 분포도\n",
      "0    402\n",
      "1     48\n",
      "dtype: int64\n",
      "모든 예측을 0으로 하여도 정확도는 : 0.893\n"
     ]
    }
   ],
   "source": [
    "#불균형한 레이블 데이터 분포도 확인.\n",
    "print('레이블 테스트 세트 크기 : ', y_test.shape)\n",
    "print('테스트 세트 레이블 0과 1의 분포도')\n",
    "print(pd.Series(y_test).value_counts())\n",
    "\n",
    "#Dummy Classifier로 학습/예측/정확도 평가\n",
    "fakeclf = MyFakeClassifier()\n",
    "fakeclf.fit(X_train, y_train)\n",
    "fakepred = fakeclf.predict(X_test)\n",
    "print('모든 예측을 0으로 하여도 정확도는 : {:.3f}'.format(accuracy_score(y_test, fakepred)))"
   ]
  },
  {
   "cell_type": "markdown",
   "id": "ebcfa1db",
   "metadata": {},
   "source": [
    "- 잘못된 데이터를 사용하여도 높은 정확도가 나옴\n",
    "- 정확도 평가 지표는 불균형한 레이블 데이터 세트에서는 성능 수치로 사용해서는 안된다."
   ]
  },
  {
   "cell_type": "markdown",
   "id": "a29f5ab6",
   "metadata": {},
   "source": [
    "# 02. 오차행렬(confusion matrix, 혼동행렬)\n",
    "- 학습된 분류 모델이 예측을 수행하면서 얼마나 헷갈리고(confused) 있는지도 함께 보여주는 지표  \n",
    "<img src=\"https://velog.velcdn.com/images/jjw9599/post/d230bf92-2a11-4fa8-b3fe-aadcce1fc443/image.png\"></img>"
   ]
  },
  {
   "cell_type": "markdown",
   "id": "62d299dd",
   "metadata": {},
   "source": [
    "- TN, FP, FN, TP는 예측 클래스와 실제 클래스의 Positive 결정값(값1)과 Negative 결정값(값0)의 결합에 따라 결정\n",
    "- TN는 예측값을 Negative 값 0으로 예측했고 실제 값 역시 Negative 값 0\n",
    "- FP는 예측값을 Positive 값 1로 예측했는데 실제 값은 Negative 값 0\n",
    "- FN은 예측값을 Negative 값 0으로 예측했는데 실제 값은 Positive 값 1\n",
    "- TP는 예측값을 Positive 값 1로 예측했는데 실제 값 역시 Positive 값 1"
   ]
  },
  {
   "cell_type": "code",
   "execution_count": 18,
   "id": "e56b677b",
   "metadata": {},
   "outputs": [
    {
     "data": {
      "text/plain": [
       "array([[402,   0],\n",
       "       [ 48,   0]])"
      ]
     },
     "execution_count": 18,
     "metadata": {},
     "output_type": "execute_result"
    }
   ],
   "source": [
    "from sklearn.metrics import confusion_matrix\n",
    "\n",
    "confusion_matrix(y_test, fakepred)"
   ]
  },
  {
   "cell_type": "markdown",
   "id": "6424761b",
   "metadata": {},
   "source": [
    "- 출력된 오차 행렬 : ndarray 형태\n",
    "- TN 402, FP 0, FN 48, TP 0\n",
    "- 정확도 = (TN+TP)/(TN+FP+FN+TP)\n",
    "- 일반적으로 불균형한 레이블 클래스를 가지는 이진 분류 모델에서는 많은 데이터 중에서 중점적으로 찾아야 하는 매우 적은 수의 결과값에 Positive를 설정해 1값을 부여하고, 그렇지 않은 경우는 Negative로 0 값을 부여하는 경우가 많다. ex)사기O=positive, 사기X=negative, 암 양성=positive, 암 음성=negative"
   ]
  },
  {
   "cell_type": "markdown",
   "id": "82f6e297",
   "metadata": {},
   "source": [
    "- 불균형한 이진 분류 데이터 세트에서는 Positive 데이터 건수가 매우 작기 때문에 데이터에 기반한 ML 알고리즘은 positive보다는 negative로 예측 정확도가 높아지는 경향이 발생한다.\n",
    "- negative로 예측하는 경향이 더 강해져 TN은 매우 커지고 TP는 매우 작아지게 되고, negative로 예측할 때 정확도가 높기 때문에 FN은 매우 작고 Positive로 예측하는 경우가 작기 때문에 FP도 역시 매우 작아짐.\n",
    "- 결과적으로 정확도 지표는 비대칭한 데이터 세트에서 positive에 대한 예측 정확도를 판단하지 못한 채 negative에 대한 예측 정확도만으로 분류의 정확도가 높게 나타나는 수치적인 판단 오류를 일으키게 된다.\n",
    "- 정확도는 분류 모델의 성능을 측정할 수 있는 한가지 요소일 뿐이다."
   ]
  },
  {
   "cell_type": "code",
   "execution_count": null,
   "id": "abf9d6f8",
   "metadata": {},
   "outputs": [],
   "source": []
  }
 ],
 "metadata": {
  "kernelspec": {
   "display_name": "Python 3 (ipykernel)",
   "language": "python",
   "name": "python3"
  },
  "language_info": {
   "codemirror_mode": {
    "name": "ipython",
    "version": 3
   },
   "file_extension": ".py",
   "mimetype": "text/x-python",
   "name": "python",
   "nbconvert_exporter": "python",
   "pygments_lexer": "ipython3",
   "version": "3.9.7"
  }
 },
 "nbformat": 4,
 "nbformat_minor": 5
}
